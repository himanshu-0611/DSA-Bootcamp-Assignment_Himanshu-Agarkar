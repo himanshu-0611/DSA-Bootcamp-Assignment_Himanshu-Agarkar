{
  "nbformat": 4,
  "nbformat_minor": 0,
  "metadata": {
    "colab": {
      "name": "Zenatix Solutions | Data Analyst | Gurgaon Hotel ACs Case Study.ipynb",
      "provenance": [],
      "mount_file_id": "1eGFfgWhe7Q3q6MUd-N6OkjzIHtaR5qsp",
      "authorship_tag": "ABX9TyMLoBsg1si6Kc06Itdcz5k6",
      "include_colab_link": true
    },
    "kernelspec": {
      "name": "python3",
      "display_name": "Python 3"
    },
    "language_info": {
      "name": "python"
    }
  },
  "cells": [
    {
      "cell_type": "markdown",
      "metadata": {
        "id": "view-in-github",
        "colab_type": "text"
      },
      "source": [
        "<a href=\"https://colab.research.google.com/github/himanshu-0611/DSA-Bootcamp-Assignment_Himanshu-Agarkar/blob/master/Zenatix_Solutions_%7C_Data_Analyst_%7C_Gurgaon_Hotel_ACs_Case_Study.ipynb\" target=\"_parent\"><img src=\"https://colab.research.google.com/assets/colab-badge.svg\" alt=\"Open In Colab\"/></a>"
      ]
    },
    {
      "cell_type": "markdown",
      "source": [
        "# **Zenatix Solutions | Gurgaon Hotel ACs Case Study**"
      ],
      "metadata": {
        "id": "-tMTL2X0_4WE"
      }
    },
    {
      "cell_type": "markdown",
      "source": [
        "## **Author: Himanshu Agarkar**"
      ],
      "metadata": {
        "id": "3__qT3IVAWOC"
      }
    },
    {
      "cell_type": "markdown",
      "source": [
        "### *Domain: Data Analysis*"
      ],
      "metadata": {
        "id": "H1KEmemIAel9"
      }
    },
    {
      "cell_type": "code",
      "source": [
        "#importing requited libraries\n",
        "\n",
        "import numpy as np\n",
        "import pandas as pd\n",
        "import matplotlib.pyplot as plt\n",
        "from sklearn.model_selection import train_test_split\n",
        "from sklearn.linear_model import LinearRegression"
      ],
      "metadata": {
        "id": "KgZV530VAtjI"
      },
      "execution_count": 8,
      "outputs": []
    },
    {
      "cell_type": "markdown",
      "source": [
        "#### **Step 1: Reading the data from source**"
      ],
      "metadata": {
        "id": "Rj-_0tTFBROk"
      }
    },
    {
      "cell_type": "code",
      "source": [
        "#mounting drive\n",
        "\n",
        "from google.colab import drive\n",
        "drive.mount('/content/drive')"
      ],
      "metadata": {
        "id": "fYFp9_6VCUnp",
        "colab": {
          "base_uri": "https://localhost:8080/"
        },
        "outputId": "f990508e-13ad-4e05-f0dc-f7826ca6f88b"
      },
      "execution_count": 9,
      "outputs": [
        {
          "output_type": "stream",
          "name": "stdout",
          "text": [
            "Drive already mounted at /content/drive; to attempt to forcibly remount, call drive.mount(\"/content/drive\", force_remount=True).\n"
          ]
        }
      ]
    },
    {
      "cell_type": "code",
      "source": [
        "#reading the data from csv file\n",
        "\n",
        "path = \"/content/drive/MyDrive/AC_Data.csv\"\n",
        "df = pd.read_csv(path)\n",
        "\n",
        "#dataset is now stored in pandas dataframe\n",
        "\n",
        "df.describe"
      ],
      "metadata": {
        "colab": {
          "base_uri": "https://localhost:8080/"
        },
        "id": "XDS3GsJ4Gtl0",
        "outputId": "d66c9042-7ed1-4078-eb95-a72fad0e62c1"
      },
      "execution_count": 10,
      "outputs": [
        {
          "output_type": "execute_result",
          "data": {
            "text/plain": [
              "<bound method NDFrame.describe of                          0      AC 1      AC 2  ...     AC 16     AC 17     AC 18\n",
              "0      2019-08-01 00:00:00  7.518632  8.788315  ...  4.113460  3.305072  6.735981\n",
              "1      2019-08-01 00:01:00       NaN       NaN  ...       NaN       NaN       NaN\n",
              "2      2019-08-01 00:02:00  7.426114  8.940615  ...  3.986483  3.220588  6.379500\n",
              "3      2019-08-01 00:03:00       NaN       NaN  ...       NaN       NaN       NaN\n",
              "4      2019-08-01 00:04:00  7.052986  9.161103  ...  3.797881  3.131560  6.363475\n",
              "...                    ...       ...       ...  ...       ...       ...       ...\n",
              "87835  2019-09-30 23:55:00  0.000000  6.122385  ...  1.854352  3.027539  7.259989\n",
              "87836  2019-09-30 23:56:00       NaN       NaN  ...       NaN       NaN       NaN\n",
              "87837  2019-09-30 23:57:00  1.209176  6.152532  ...  1.870886  2.991946  7.134647\n",
              "87838  2019-09-30 23:58:00       NaN       NaN  ...       NaN       NaN       NaN\n",
              "87839  2019-09-30 23:59:00  1.430442  6.078281  ...  1.862166  3.009434  7.179719\n",
              "\n",
              "[87840 rows x 19 columns]>"
            ]
          },
          "metadata": {},
          "execution_count": 10
        }
      ]
    },
    {
      "cell_type": "code",
      "source": [
        "#\n",
        "\n",
        "df.size"
      ],
      "metadata": {
        "id": "IE1UFl-LHcC4",
        "colab": {
          "base_uri": "https://localhost:8080/"
        },
        "outputId": "6534e4ad-8fee-41eb-e541-d0b975c37a4b"
      },
      "execution_count": 14,
      "outputs": [
        {
          "output_type": "execute_result",
          "data": {
            "text/plain": [
              "1668960"
            ]
          },
          "metadata": {},
          "execution_count": 14
        }
      ]
    },
    {
      "cell_type": "code",
      "source": [
        "df.shape"
      ],
      "metadata": {
        "colab": {
          "base_uri": "https://localhost:8080/"
        },
        "id": "tU0sm_Fa8C-C",
        "outputId": "5ab7b45e-62fe-4b96-9e0e-47a47ad6d7cf"
      },
      "execution_count": 13,
      "outputs": [
        {
          "output_type": "execute_result",
          "data": {
            "text/plain": [
              "(87840, 19)"
            ]
          },
          "metadata": {},
          "execution_count": 13
        }
      ]
    },
    {
      "cell_type": "code",
      "source": [
        "df"
      ],
      "metadata": {
        "id": "KAXQvmMB8IXz"
      },
      "execution_count": null,
      "outputs": []
    }
  ]
}